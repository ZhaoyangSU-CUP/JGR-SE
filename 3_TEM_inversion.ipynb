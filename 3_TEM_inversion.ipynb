{
 "cells": [
  {
   "cell_type": "code",
   "execution_count": 1,
   "metadata": {},
   "outputs": [],
   "source": [
    "import numpy as np\n",
    "from discretize import TensorMesh\n",
    "import matplotlib.pyplot as plt\n",
    "from pymatsolver import PardisoSolver\n",
    "import SimPEG.EM.TDEM as tdem\n",
    "from SimPEG import (Utils,Mesh, Maps, DataMisfit, Regularization,\n",
    "                    Optimization, Inversion, InvProblem, Directives)\n",
    "from SimPEG import EM, Mesh, Utils"
   ]
  },
  {
   "cell_type": "code",
   "execution_count": 7,
   "metadata": {
    "scrolled": false
   },
   "outputs": [],
   "source": [
    "datadir = \"./TEM_data/\"\n",
    "\n",
    "dobs = np.load(datadir + 'dobs.npy')\n",
    "time = np.load(datadir + 'times.npy')\n",
    "locs = np.load(datadir + 'locs.npy')\n",
    "m0 = np.load(datadir + 'sigma0.npy')\n",
    "actind =np.load(datadir + 'actind_2d.npy')\n",
    "mesh_3d = TensorMesh.readUBC(datadir + 'mesh_3d.msh')\n",
    "mesh_2d = TensorMesh([mesh_3d.hx,mesh_3d.hz],x0=[mesh_3d.x0[0],mesh_3d.x0[2]])\n"
   ]
  },
  {
   "cell_type": "code",
   "execution_count": 3,
   "metadata": {},
   "outputs": [],
   "source": [
    "map_2Dto3D = Maps.Surject2Dto3D(mesh_3d)\n",
    "expmap = Maps.ExpMap(mesh_2d)\n",
    "actmap = Maps.InjectActiveCells(mesh_2d, indActive=actind, valInactive=np.log(3))\n",
    "actmap_plot = Maps.InjectActiveCells(mesh_2d, indActive=actind, valInactive=np.nan)\n",
    "mapping = map_2Dto3D * expmap * actmap\n",
    "#mapping_plot = map_2Dto3D * expmap * actmap_plot"
   ]
  },
  {
   "cell_type": "code",
   "execution_count": 4,
   "metadata": {},
   "outputs": [],
   "source": [
    "srcList = []\n",
    "for location in locs:\n",
    "    rx_z = tdem.Rx.Point_dbdt(location, time, 'z')\n",
    "    src = tdem.Src.CircularLoop([rx_z], orientation='z', loc=location)\n",
    "    srcList.append(src)\n",
    "timesteps = [(1e-4, 5),(5e-4, 5),(1e-3,10),(2e-3,5)]\n",
    "#timesteps = time\n",
    "survey = tdem.Survey(srcList)"
   ]
  },
  {
   "cell_type": "code",
   "execution_count": 5,
   "metadata": {},
   "outputs": [],
   "source": [
    "prb = EM.TDEM.Problem3D_e(mesh_3d, Solver=PardisoSolver, verbose=False, timeSteps=timesteps, sigmaMap=mapping)\n",
    "survey = EM.TDEM.Survey(srcList)\n",
    "survey.pair(prb)"
   ]
  },
  {
   "cell_type": "code",
   "execution_count": 8,
   "metadata": {},
   "outputs": [],
   "source": [
    "survey.std = 0.05\n",
    "survey.eps = 1e-12\n",
    "survey.dobs = dobs"
   ]
  },
  {
   "cell_type": "code",
   "execution_count": 9,
   "metadata": {},
   "outputs": [
    {
     "name": "stdout",
     "output_type": "stream",
     "text": [
      "SimPEG.InvProblem will set Regularization.mref to m0.\n",
      "\n",
      "    SimPEG.InvProblem is setting bfgsH0 to the inverse of the eval2Deriv.\n",
      "    ***Done using same Solver and solverOpts as the problem***\n",
      "SimPEG.SaveModelEveryIteration will save your models as: '.\\###-InversionModel-2022-09-17-17-14.npy'\n",
      "SimPEG.SaveOutputEveryIteration will save your inversion progress as: '###-InversionModel-2022-09-17-17-14.txt'\n",
      "model has any nan: 0\n",
      "=============================== Projected GNCG ===============================\n",
      "  #     beta     phi_d     phi_m       f      |proj(x-g)-x|  LS    Comment   \n",
      "-----------------------------------------------------------------------------\n",
      "x0 has any nan: 0\n",
      "   0  3.90e-05  7.63e+03  0.00e+00  7.63e+03    6.69e+01      0              \n",
      "   1  7.79e-06  3.79e+03  4.44e+03  3.79e+03    6.82e+01      0              \n",
      "   2  1.56e-06  2.73e+03  5.56e+03  2.73e+03    6.82e+01      0              \n",
      "   3  3.12e-07  2.49e+03  7.09e+03  2.49e+03    5.68e+01      2   Skip BFGS  \n",
      "   4  6.23e-08  2.00e+03  7.54e+03  2.00e+03    5.96e+01      0              \n",
      "   5  1.25e-08  1.66e+03  7.29e+03  1.66e+03    4.37e+01      0              \n",
      "   6  2.49e-09  1.48e+03  7.46e+03  1.48e+03    3.43e+01      0              \n",
      "   7  4.99e-10  1.45e+03  7.90e+03  1.45e+03    4.03e+01      2   Skip BFGS  \n",
      "   8  9.97e-11  1.41e+03  7.93e+03  1.41e+03    3.00e+01      0              \n",
      "   9  1.99e-11  1.38e+03  8.56e+03  1.38e+03    3.04e+01      0              \n",
      "  10  3.99e-12  1.38e+03  8.48e+03  1.38e+03    2.17e+01      1              \n",
      "  11  7.98e-13  1.36e+03  9.03e+03  1.36e+03    2.65e+01      1              \n",
      "  12  1.60e-13  1.35e+03  9.15e+03  1.35e+03    2.96e+01      2              \n",
      "  13  3.19e-14  1.34e+03  8.77e+03  1.34e+03    2.78e+01      0              \n",
      "  14  6.38e-15  1.34e+03  8.78e+03  1.34e+03    2.77e+01      7              \n",
      "  15  1.28e-15  1.34e+03  8.87e+03  1.34e+03    2.66e+01      1   Skip BFGS  \n",
      "------------------------------------------------------------------\n",
      "0 :    ft     = 1.3428e+03 <= alp*descent     = 1.3428e+03\n",
      "1 : maxIterLS =      20    <= iterLS          =     20\n",
      "------------------------- End Linesearch -------------------------\n",
      "The linesearch got broken. Boo.\n",
      "Wall time: 19h 34min 22s\n"
     ]
    }
   ],
   "source": [
    "%%time\n",
    "dmisfit = DataMisfit.l2_DataMisfit(survey)\n",
    "\n",
    "model_map = Maps.IdentityMap(nP = int(actind.sum())) \n",
    "reg = Regularization.Tikhonov(mesh_2d,mapping = model_map,indActive=actind ,\n",
    "                              alpha_s = 1/mesh_2d.hx.min()**2, alpha_x = 10., alpha_y = 10.)\n",
    "\n",
    "opt = Optimization.ProjectedGNCG(\n",
    "    maxIter=25, lower=-4.0, upper=5.0,maxIterLS=20, maxIterCG=10, tolCG=1e-3\n",
    ")\n",
    "\n",
    "invProb = InvProblem.BaseInvProblem(dmisfit, reg, opt)\n",
    "beta = Directives.BetaSchedule(coolingFactor=5, coolingRate=1)\n",
    "betaest = Directives.BetaEstimate_ByEig(beta0_ratio=0.001)\n",
    "target = Directives.TargetMisfit()\n",
    "\n",
    "save_model = Directives.SaveModelEveryIteration()\n",
    "save = Directives.SaveOutputEveryIteration()\n",
    "directiveList = [beta,betaest, target, save_model, save]\n",
    "\n",
    "inv = Inversion.BaseInversion(invProb, directiveList = directiveList)\n",
    "\n",
    "sig0 = 3\n",
    "mref = np.log(sig0)*np.ones(actmap.nP)\n",
    "m0 = mref.copy()\n",
    "\n",
    "mopt = inv.run(m0)"
   ]
  },
  {
   "cell_type": "code",
   "execution_count": 12,
   "metadata": {},
   "outputs": [],
   "source": [
    "np.save('TEMinversion_result' +'/mopt', mopt)\n",
    "np.save('TEMinversion_result' +'/dpred', invProb.dpred)"
   ]
  },
  {
   "cell_type": "code",
   "execution_count": null,
   "metadata": {},
   "outputs": [],
   "source": [
    "# print diffusion distance and make sure mesh padding goes beyond that\n",
    "print(\"diffusion distance: {:1.2e} m\".format(1260*np.sqrt(3*2e-3)))\n",
    "print(\"print mesh extent : {:1.2e} m\".format(mesh_2d.hy[-10:].sum()))"
   ]
  },
  {
   "cell_type": "code",
   "execution_count": null,
   "metadata": {},
   "outputs": [],
   "source": []
  }
 ],
 "metadata": {
  "kernelspec": {
   "display_name": "Python 3",
   "language": "python",
   "name": "python3"
  },
  "language_info": {
   "codemirror_mode": {
    "name": "ipython",
    "version": 3
   },
   "file_extension": ".py",
   "mimetype": "text/x-python",
   "name": "python",
   "nbconvert_exporter": "python",
   "pygments_lexer": "ipython3",
   "version": "3.7.6"
  }
 },
 "nbformat": 4,
 "nbformat_minor": 4
}
